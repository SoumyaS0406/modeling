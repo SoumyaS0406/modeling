{
 "cells": [
  {
   "cell_type": "code",
   "execution_count": 1,
   "metadata": {},
   "outputs": [
    {
     "name": "stderr",
     "output_type": "stream",
     "text": [
      "C:\\Users\\Rhea\\Anaconda3\\lib\\site-packages\\sklearn\\cross_validation.py:41: DeprecationWarning: This module was deprecated in version 0.18 in favor of the model_selection module into which all the refactored classes and functions are moved. Also note that the interface of the new CV iterators are different from that of this module. This module will be removed in 0.20.\n",
      "  \"This module will be removed in 0.20.\", DeprecationWarning)\n"
     ]
    }
   ],
   "source": [
    "import pandas as pd \n",
    "import seaborn as sns \n",
    "import numpy as np\n",
    "import matplotlib.pyplot as plt\n",
    "import tensorflow as tf\n",
    "import edward as ed\n",
    "%matplotlib inline\n",
    "import sklearn\n",
    "from sklearn.linear_model import LinearRegression\n",
    "from sklearn.cross_validation import train_test_split\n",
    "from sklearn.preprocessing import LabelEncoder\n",
    "from sklearn.neighbors import KNeighborsClassifier\n",
    "from sklearn.naive_bayes import GaussianNB\n",
    "\n",
    "from sklearn.model_selection import cross_val_score\n",
    "from sklearn.model_selection import GridSearchCV\n",
    "from sklearn.metrics import classification_report\n",
    "from sklearn.metrics import accuracy_score\n",
    "from sklearn.metrics import confusion_matrix\n",
    "from sklearn.metrics.scorer import make_scorer\n",
    "\n",
    "# from keras.utils import np_utils\n",
    "# from keras.utils import to_categorical\n",
    "# from keras.models import Sequential\n",
    "# from keras.layers import Dense\n",
    "# from keras.layers import Dropout\n",
    "# from keras.constraints import maxnorm\n",
    "\n"
   ]
  },
  {
   "cell_type": "raw",
   "metadata": {},
   "source": [
    "Title: \n",
    "    Car Evaluation Database\n",
    "Concept Structure:\n",
    "    BUYING buying price . . MAINT price of the maintenance .  . . DOORS number of doors . . . PERSONS capacity in terms of persons to carry . . . LUG_BOOT the size of luggage boot . . SAFETY estimated safety of the car\n",
    "Number of Instances: \n",
    "    1728 (instances completely cover the attribute space)\n",
    "Number of Attributes: 6\n"
   ]
  },
  {
   "cell_type": "code",
   "execution_count": 2,
   "metadata": {
    "collapsed": true
   },
   "outputs": [],
   "source": [
    "df = pd.read_csv('C:/Users/Rhea/Documents/Bayesian Modeling/Datasets/car_data.csv',names=['buying','maint','doors','persons','lug_boot','safety','classes'])"
   ]
  },
  {
   "cell_type": "code",
   "execution_count": 3,
   "metadata": {
    "collapsed": true
   },
   "outputs": [],
   "source": [
    "# Encode Data\n",
    "df.buying.replace(('vhigh','high','med','low'),(1,2,3,4), inplace=True)\n",
    "df.maint.replace(('vhigh','high','med','low'),(1,2,3,4), inplace=True)\n",
    "df.doors.replace(('2','3','4','5more'),(1,2,3,4), inplace=True)\n",
    "df.persons.replace(('2','4','more'),(1,2,3), inplace=True)\n",
    "df.lug_boot.replace(('small','med','big'),(1,2,3), inplace=True)\n",
    "df.safety.replace(('low','med','high'),(1,2,3), inplace=True)\n",
    "df.classes.replace(('unacc','acc','good','vgood'),(1,2,3,4), inplace=True)"
   ]
  },
  {
   "cell_type": "code",
   "execution_count": 4,
   "metadata": {},
   "outputs": [
    {
     "data": {
      "text/html": [
       "<div>\n",
       "<style>\n",
       "    .dataframe thead tr:only-child th {\n",
       "        text-align: right;\n",
       "    }\n",
       "\n",
       "    .dataframe thead th {\n",
       "        text-align: left;\n",
       "    }\n",
       "\n",
       "    .dataframe tbody tr th {\n",
       "        vertical-align: top;\n",
       "    }\n",
       "</style>\n",
       "<table border=\"1\" class=\"dataframe\">\n",
       "  <thead>\n",
       "    <tr style=\"text-align: right;\">\n",
       "      <th></th>\n",
       "      <th>buying</th>\n",
       "      <th>maint</th>\n",
       "      <th>doors</th>\n",
       "      <th>persons</th>\n",
       "      <th>lug_boot</th>\n",
       "      <th>safety</th>\n",
       "      <th>classes</th>\n",
       "    </tr>\n",
       "  </thead>\n",
       "  <tbody>\n",
       "    <tr>\n",
       "      <th>0</th>\n",
       "      <td>1</td>\n",
       "      <td>1</td>\n",
       "      <td>1</td>\n",
       "      <td>1</td>\n",
       "      <td>1</td>\n",
       "      <td>1</td>\n",
       "      <td>1</td>\n",
       "    </tr>\n",
       "    <tr>\n",
       "      <th>1</th>\n",
       "      <td>1</td>\n",
       "      <td>1</td>\n",
       "      <td>1</td>\n",
       "      <td>1</td>\n",
       "      <td>1</td>\n",
       "      <td>2</td>\n",
       "      <td>1</td>\n",
       "    </tr>\n",
       "    <tr>\n",
       "      <th>2</th>\n",
       "      <td>1</td>\n",
       "      <td>1</td>\n",
       "      <td>1</td>\n",
       "      <td>1</td>\n",
       "      <td>1</td>\n",
       "      <td>3</td>\n",
       "      <td>1</td>\n",
       "    </tr>\n",
       "    <tr>\n",
       "      <th>3</th>\n",
       "      <td>1</td>\n",
       "      <td>1</td>\n",
       "      <td>1</td>\n",
       "      <td>1</td>\n",
       "      <td>2</td>\n",
       "      <td>1</td>\n",
       "      <td>1</td>\n",
       "    </tr>\n",
       "    <tr>\n",
       "      <th>4</th>\n",
       "      <td>1</td>\n",
       "      <td>1</td>\n",
       "      <td>1</td>\n",
       "      <td>1</td>\n",
       "      <td>2</td>\n",
       "      <td>2</td>\n",
       "      <td>1</td>\n",
       "    </tr>\n",
       "  </tbody>\n",
       "</table>\n",
       "</div>"
      ],
      "text/plain": [
       "   buying  maint  doors  persons  lug_boot  safety  classes\n",
       "0       1      1      1        1         1       1        1\n",
       "1       1      1      1        1         1       2        1\n",
       "2       1      1      1        1         1       3        1\n",
       "3       1      1      1        1         2       1        1\n",
       "4       1      1      1        1         2       2        1"
      ]
     },
     "execution_count": 4,
     "metadata": {},
     "output_type": "execute_result"
    }
   ],
   "source": [
    "df.head()"
   ]
  },
  {
   "cell_type": "code",
   "execution_count": 5,
   "metadata": {},
   "outputs": [
    {
     "data": {
      "text/plain": [
       "buying      int64\n",
       "maint       int64\n",
       "doors       int64\n",
       "persons     int64\n",
       "lug_boot    int64\n",
       "safety      int64\n",
       "classes     int64\n",
       "dtype: object"
      ]
     },
     "execution_count": 5,
     "metadata": {},
     "output_type": "execute_result"
    }
   ],
   "source": [
    "df.dtypes"
   ]
  },
  {
   "cell_type": "code",
   "execution_count": 6,
   "metadata": {
    "collapsed": true
   },
   "outputs": [],
   "source": [
    "features = ['buying','maint','doors','persons','lug_boot','safety']\n",
    "X = (df[features])\n",
    "y = (df['classes'])"
   ]
  },
  {
   "cell_type": "code",
   "execution_count": 7,
   "metadata": {
    "collapsed": true
   },
   "outputs": [],
   "source": [
    "X = X.astype(int)\n",
    "y = y.astype(int)"
   ]
  },
  {
   "cell_type": "code",
   "execution_count": 8,
   "metadata": {
    "collapsed": true
   },
   "outputs": [],
   "source": [
    "X=X.values\n",
    "y=y.values"
   ]
  },
  {
   "cell_type": "code",
   "execution_count": 9,
   "metadata": {
    "collapsed": true
   },
   "outputs": [],
   "source": [
    "Train_X,  Test_X,Train_Y, Test_Y = train_test_split(X,y,test_size=0.2, random_state=3)"
   ]
  },
  {
   "cell_type": "code",
   "execution_count": 10,
   "metadata": {},
   "outputs": [
    {
     "data": {
      "text/plain": [
       "<matplotlib.axes._subplots.AxesSubplot at 0x16c3265c470>"
      ]
     },
     "execution_count": 10,
     "metadata": {},
     "output_type": "execute_result"
    },
    {
     "data": {
      "image/png": "[encoded data removed]",
      "text/plain": [
       "<matplotlib.figure.Figure at 0x16c32630278>"
      ]
     },
     "metadata": {},
     "output_type": "display_data"
    }
   ],
   "source": [
    "sns.countplot(x=df['classes'],data = df)"
   ]
  },
  {
   "cell_type": "code",
   "execution_count": 11,
   "metadata": {},
   "outputs": [
    {
     "name": "stderr",
     "output_type": "stream",
     "text": [
      "C:\\Users\\Rhea\\Anaconda3\\lib\\site-packages\\ipykernel_launcher.py:2: FutureWarning: 'pandas.tools.plotting.radviz' is deprecated, import 'pandas.plotting.radviz' instead.\n",
      "  \n",
      "C:\\Users\\Rhea\\Anaconda3\\lib\\site-packages\\pandas\\plotting\\_misc.py:201: RuntimeWarning: invalid value encountered in true_divide\n",
      "  y = (s * row_).sum(axis=0) / row.sum()\n"
     ]
    },
    {
     "data": {
      "text/plain": [
       "<matplotlib.axes._subplots.AxesSubplot at 0x16c3276bbe0>"
      ]
     },
     "execution_count": 11,
     "metadata": {},
     "output_type": "execute_result"
    },
    {
     "data": {
      "image/png": "[encoded data removed]",
      "text/plain": [
       "<matplotlib.figure.Figure at 0x16c3263cfd0>"
      ]
     },
     "metadata": {},
     "output_type": "display_data"
    }
   ],
   "source": [
    "from pandas.tools.plotting import radviz\n",
    "radviz(df, \"classes\")"
   ]
  },
  {
   "cell_type": "markdown",
   "metadata": {},
   "source": [
    "Samples distributed among 'Classes' have a positive skew, with majority being in the 'unacc'(unacceptable),'acc'(acceptable) output class"
   ]
  },
  {
   "cell_type": "code",
   "execution_count": 12,
   "metadata": {},
   "outputs": [
    {
     "data": {
      "text/plain": [
       "array([[<matplotlib.axes._subplots.AxesSubplot object at 0x0000016C32994C88>,\n",
       "        <matplotlib.axes._subplots.AxesSubplot object at 0x0000016C32C7CEF0>,\n",
       "        <matplotlib.axes._subplots.AxesSubplot object at 0x0000016C32CB5F60>],\n",
       "       [<matplotlib.axes._subplots.AxesSubplot object at 0x0000016C32CFC080>,\n",
       "        <matplotlib.axes._subplots.AxesSubplot object at 0x0000016C32D28F60>,\n",
       "        <matplotlib.axes._subplots.AxesSubplot object at 0x0000016C32D28F98>],\n",
       "       [<matplotlib.axes._subplots.AxesSubplot object at 0x0000016C32D94D30>,\n",
       "        <matplotlib.axes._subplots.AxesSubplot object at 0x0000016C32DCED30>,\n",
       "        <matplotlib.axes._subplots.AxesSubplot object at 0x0000016C32E09D30>]], dtype=object)"
      ]
     },
     "execution_count": 12,
     "metadata": {},
     "output_type": "execute_result"
    },
    {
     "data": {
      "image/png": "[encoded data removed]",
      "text/plain": [
       "<matplotlib.figure.Figure at 0x16c32969ac8>"
      ]
     },
     "metadata": {},
     "output_type": "display_data"
    }
   ],
   "source": [
    "df.hist()"
   ]
  },
  {
   "cell_type": "markdown",
   "metadata": {},
   "source": [
    "Every input feature seems evenly distributed, implying their multivariate interelation is what causes the skew in the 'classes'"
   ]
  },
  {
   "cell_type": "markdown",
   "metadata": {},
   "source": [
    "####  Multilabel Classification Using K Nearest Neighbors  , Gaussian Naive Bayes Models"
   ]
  },
  {
   "cell_type": "code",
   "execution_count": 13,
   "metadata": {},
   "outputs": [
    {
     "name": "stdout",
     "output_type": "stream",
     "text": [
      "(1382, 6)\n",
      "(1382,)\n",
      "(346, 6)\n",
      "(346,)\n"
     ]
    }
   ],
   "source": [
    "print(Train_X.shape)\n",
    "print(Train_Y.shape)\n",
    "print(Test_X.shape)\n",
    "print(Test_Y.shape)"
   ]
  },
  {
   "cell_type": "code",
   "execution_count": 14,
   "metadata": {},
   "outputs": [
    {
     "name": "stdout",
     "output_type": "stream",
     "text": [
      "Model: K Nearest Neighbors\n",
      "Accuracy score  = 0.9217828983334193\n"
     ]
    }
   ],
   "source": [
    "# create model\n",
    "print (\"Model: K Nearest Neighbors\")\n",
    "knn = KNeighborsClassifier()\n",
    "# precision_knn = cross_val_score(knn, Train_X, Train_Y, cv=10, score_func=metrics.precision_recall_fscore_support )\n",
    "# print (\"Train Precision = {}\".format(precision_knn.mean()))\n",
    "# recall_knn = cross_val_score(knn, Train_X, Train_Y, cv=10, scoring='recall')\n",
    "# print (\"Train Recall = {}\".format(recall_knn.mean()))\n",
    "# f1score_knn = cross_val_score(knnv, Train_X, Train_Y, cv=10, scoring='f1')\n",
    "# print (\"Train F1 Score  = {}\".format(f1score_knn.mean()))\n",
    "accscore_knn = cross_val_score(knn, Train_X, Train_Y, cv=10, scoring='accuracy', n_jobs=-1)\n",
    "print (\"Accuracy score  = {}\".format(accscore_knn.mean()))\n"
   ]
  },
  {
   "cell_type": "code",
   "execution_count": 15,
   "metadata": {},
   "outputs": [
    {
     "data": {
      "text/plain": [
       "KNeighborsClassifier(algorithm='auto', leaf_size=30, metric='minkowski',\n",
       "           metric_params=None, n_jobs=1, n_neighbors=5, p=2,\n",
       "           weights='uniform')"
      ]
     },
     "execution_count": 15,
     "metadata": {},
     "output_type": "execute_result"
    }
   ],
   "source": [
    "knn.fit(X=Train_X,y=Train_Y)"
   ]
  },
  {
   "cell_type": "code",
   "execution_count": 16,
   "metadata": {
    "collapsed": true
   },
   "outputs": [],
   "source": [
    "y_pred_knn=knn.predict(Test_X)"
   ]
  },
  {
   "cell_type": "code",
   "execution_count": 17,
   "metadata": {},
   "outputs": [
    {
     "name": "stdout",
     "output_type": "stream",
     "text": [
      "             precision    recall  f1-score   support\n",
      "\n",
      "          1       0.95      0.99      0.97       232\n",
      "          2       0.88      0.87      0.87        92\n",
      "          3       0.80      0.50      0.62         8\n",
      "          4       1.00      0.57      0.73        14\n",
      "\n",
      "avg / total       0.93      0.93      0.93       346\n",
      "\n",
      "confusion matrix\n",
      "[[230   2   0   0]\n",
      " [ 11  80   1   0]\n",
      " [  1   3   4   0]\n",
      " [  0   6   0   8]]\n",
      "accuracy score\n",
      "0.93063583815\n"
     ]
    }
   ],
   "source": [
    "knn_report=sklearn.metrics.classification_report(Test_Y,y_pred_knn)\n",
    "print(knn_report)\n",
    "print(\"confusion matrix\")\n",
    "print(confusion_matrix(Test_Y, y_pred_knn))\n",
    "print(\"accuracy score\")\n",
    "print(accuracy_score(Test_Y, y_pred_knn, normalize=True, sample_weight=None))"
   ]
  },
  {
   "cell_type": "code",
   "execution_count": 18,
   "metadata": {},
   "outputs": [
    {
     "name": "stdout",
     "output_type": "stream",
     "text": [
      "Model: Gaussian Naive Bayes\n",
      "Accuracy score  = 0.6968562943118701\n"
     ]
    }
   ],
   "source": [
    "print (\"Model: Gaussian Naive Bayes\")\n",
    "nb = GaussianNB() \n",
    "\n",
    "# precision_nb = cross_val_score(nb, Train_X, Train_Y, cv=10, scoring='precision')\n",
    "# print (\"Train Precision = {}\".format(precision_nb.mean()))\n",
    "# recall_nb = cross_val_score(nb, Train_X, Train_Y, cv=10, scoring='recall')\n",
    "# print (\"Train Recall = {}\".format(recall_nb.mean()))\n",
    "# f1score_nb = cross_val_score(nb, Train_X, Train_Y, cv=10, scoring='f1')\n",
    "# print (\"Train F1 Score  = {}\".format(f1score_nb.mean()))\n",
    "accscore_nb = cross_val_score(nb, Train_X, Train_Y, cv=10, scoring='accuracy', n_jobs=-1)\n",
    "print (\"Accuracy score  = {}\".format(accscore_nb.mean()))"
   ]
  },
  {
   "cell_type": "code",
   "execution_count": 19,
   "metadata": {},
   "outputs": [
    {
     "data": {
      "text/plain": [
       "GaussianNB(priors=None)"
      ]
     },
     "execution_count": 19,
     "metadata": {},
     "output_type": "execute_result"
    }
   ],
   "source": [
    "nb.fit(X=Train_X,y=Train_Y)"
   ]
  },
  {
   "cell_type": "code",
   "execution_count": 20,
   "metadata": {
    "collapsed": true
   },
   "outputs": [],
   "source": [
    "y_pred_nb=nb.predict(Test_X)"
   ]
  },
  {
   "cell_type": "code",
   "execution_count": 21,
   "metadata": {
    "collapsed": true
   },
   "outputs": [],
   "source": [
    "y_pred_nb=nb.predict(Test_X)"
   ]
  },
  {
   "cell_type": "code",
   "execution_count": 22,
   "metadata": {},
   "outputs": [
    {
     "name": "stdout",
     "output_type": "stream",
     "text": [
      "             precision    recall  f1-score   support\n",
      "\n",
      "          1       0.85      0.86      0.85       232\n",
      "          2       0.76      0.24      0.36        92\n",
      "          3       0.29      0.25      0.27         8\n",
      "          4       0.19      1.00      0.31        14\n",
      "\n",
      "avg / total       0.78      0.68      0.69       346\n",
      "\n",
      "confusion matrix\n",
      "[[199   6   0  27]\n",
      " [ 35  22   5  30]\n",
      " [  1   1   2   4]\n",
      " [  0   0   0  14]]\n",
      "accuracy score\n",
      "0.684971098266\n"
     ]
    }
   ],
   "source": [
    "nb_report=sklearn.metrics.classification_report(Test_Y,y_pred_nb)\n",
    "print(nb_report)\n",
    "print(\"confusion matrix\")\n",
    "print(confusion_matrix(Test_Y, y_pred_nb))\n",
    "print(\"accuracy score\")\n",
    "print(accuracy_score(Test_Y, y_pred_nb, normalize=True, sample_weight=None))"
   ]
  },
  {
   "cell_type": "markdown",
   "metadata": {},
   "source": [
    "#### Classification Accuracy of K Nearest Neighbors  is better than Gaussian Naive Bayes"
   ]
  },
  {
   "cell_type": "raw",
   "metadata": {},
   "source": [
    "Supervised Learning (Classification)Using Edward\n",
    "In supervised learning, the task is to infer hidden structure from labeled data, comprised of training examples \n",
    "Classification means the output takes discrete values.\n",
    "\n",
    "This dataset has 4 labels : 1(unacc),2(acc),3(good),4(vgood)"
   ]
  },
  {
   "cell_type": "markdown",
   "metadata": {},
   "source": [
    "## Probabilistic modeling in Edward "
   ]
  },
  {
   "cell_type": "code",
   "execution_count": 23,
   "metadata": {
    "collapsed": true
   },
   "outputs": [],
   "source": [
    "import edward as ed\n",
    "import tensorflow as tf\n",
    "\n",
    "from edward.models import Bernoulli, MultivariateNormalTriL, Normal\n",
    "from edward.util import rbf\n",
    "\n"
   ]
  },
  {
   "cell_type": "markdown",
   "metadata": {},
   "source": [
    "### DATA"
   ]
  },
  {
   "cell_type": "code",
   "execution_count": 24,
   "metadata": {},
   "outputs": [
    {
     "name": "stdout",
     "output_type": "stream",
     "text": [
      "Number of data points: 1382\n",
      "Number of features: 6\n"
     ]
    }
   ],
   "source": [
    "N = Train_X.shape[0]  # number of data points\n",
    "D = Train_X.shape[1]  # number of features\n",
    "\n",
    "print(\"Number of data points: {}\".format(N))\n",
    "print(\"Number of features: {}\".format(D))"
   ]
  },
  {
   "cell_type": "markdown",
   "metadata": {},
   "source": [
    "### MODEL"
   ]
  },
  {
   "cell_type": "markdown",
   "metadata": {},
   "source": [
    "A Gaussian process is a powerful object for modeling nonlinear relationships between pairs of random variables. It defines a distribution over (possibly nonlinear) functions, which can be applied for representing our uncertainty around the true functional relationship. "
   ]
  },
  {
   "cell_type": "markdown",
   "metadata": {},
   "source": [
    "We use a radial basis function (RBF) kernel, also known as the squared exponential or exponentiated quadratic. It returns the kernel matrix evaluated over all pairs of data points; we then Cholesky decompose the matrix to parameterize the multivariate normal distribution."
   ]
  },
  {
   "cell_type": "code",
   "execution_count": 25,
   "metadata": {
    "collapsed": true
   },
   "outputs": [],
   "source": [
    "# Define a placeholder X. During inference, we pass in the value for this placeholder according to data\n",
    "X = tf.placeholder(tf.float32, [N, D])\n",
    "f = MultivariateNormalTriL(loc=tf.zeros(N), scale_tril=tf.cholesky(rbf(X)))\n",
    "y = Bernoulli(logits=f)"
   ]
  },
  {
   "cell_type": "code",
   "execution_count": 26,
   "metadata": {},
   "outputs": [
    {
     "name": "stdout",
     "output_type": "stream",
     "text": [
      "(1382, 6) (1382, 6)\n",
      "(1382,) (1382,)\n"
     ]
    }
   ],
   "source": [
    "print(X.shape,Train_X.shape)\n",
    "print(y.shape,Train_Y.shape)\n"
   ]
  },
  {
   "cell_type": "markdown",
   "metadata": {},
   "source": [
    "### INFERENCE"
   ]
  },
  {
   "cell_type": "code",
   "execution_count": 27,
   "metadata": {
    "collapsed": true
   },
   "outputs": [],
   "source": [
    "qf = Normal(loc=tf.get_variable(\"qf/loc\", [N]),\n",
    "            scale=tf.nn.softplus(tf.get_variable(\"qf/scale\", [N])))"
   ]
  },
  {
   "cell_type": "code",
   "execution_count": 28,
   "metadata": {
    "scrolled": true
   },
   "outputs": [
    {
     "name": "stdout",
     "output_type": "stream",
     "text": [
      "100/100 [100%] ██████████████████████████████ Elapsed: 12s | Loss: 1535.555\n"
     ]
    }
   ],
   "source": [
    "inference = ed.KLqp({f: qf}, data={X: Train_X})\n",
    "inference.run(n_iter=100)"
   ]
  },
  {
   "cell_type": "code",
   "execution_count": 29,
   "metadata": {
    "scrolled": false
   },
   "outputs": [
    {
     "name": "stdout",
     "output_type": "stream",
     "text": [
      "100/100 [100%] ██████████████████████████████ Elapsed: 12s | Loss: 2021.523\n"
     ]
    }
   ],
   "source": [
    "inference = ed.KLqp({f: qf}, data={X: Train_X,y: Train_Y})\n",
    "inference.run(n_iter=100)"
   ]
  },
  {
   "cell_type": "code",
   "execution_count": 30,
   "metadata": {
    "scrolled": true
   },
   "outputs": [
    {
     "name": "stdout",
     "output_type": "stream",
     "text": [
      "500/500 [100%] ██████████████████████████████ Elapsed: 57s | Loss: 1146.509\n"
     ]
    }
   ],
   "source": [
    "inference = ed.KLqp({f: qf}, data={X: Train_X})\n",
    "inference.run(n_iter=500)"
   ]
  },
  {
   "cell_type": "code",
   "execution_count": 31,
   "metadata": {
    "scrolled": false
   },
   "outputs": [
    {
     "name": "stdout",
     "output_type": "stream",
     "text": [
      "500/500 [100%] ██████████████████████████████ Elapsed: 57s | Loss: 300.425\n"
     ]
    }
   ],
   "source": [
    "inference = ed.KLqp({f: qf}, data={X: Train_X,y: Train_Y})\n",
    "inference.run(n_iter=500)"
   ]
  },
  {
   "cell_type": "markdown",
   "metadata": {},
   "source": [
    "KLqp optimizes  model parameters p(z∣x;θ). It does this by variational EM, maximizing. \n",
    "<br>\n",
    "The objective function also adds to itself a summation over all tensors in the REGULARIZATION_LOSSES collection."
   ]
  }
 ],
 "metadata": {
  "kernelspec": {
   "display_name": "Python 3",
   "language": "python",
   "name": "python3"
  },
  "language_info": {
   "codemirror_mode": {
    "name": "ipython",
    "version": 3
   },
   "file_extension": ".py",
   "mimetype": "text/x-python",
   "name": "python",
   "nbconvert_exporter": "python",
   "pygments_lexer": "ipython3",
   "version": "3.6.3"
  }
 },
 "nbformat": 4,
 "nbformat_minor": 2
}
